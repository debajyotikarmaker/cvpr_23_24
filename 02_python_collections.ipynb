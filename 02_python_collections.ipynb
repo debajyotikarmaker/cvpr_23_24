{
 "cells": [
  {
   "attachments": {},
   "cell_type": "markdown",
   "metadata": {},
   "source": [
    "In Python, the term \"collection\" refers to a group or container that holds multiple items together. Python provides several built-in collection types that are used to store and organize data efficiently. These collection types are designed to handle different scenarios and offer various operations for data manipulation.\n",
    "\n",
    "The main built-in collection types in Python include:\n",
    "\n",
    "- **List:** A list is an ordered and mutable collection that allows storing multiple items. It can hold elements of different data types, and items can be added, removed, or modified. Lists are represented by square brackets ([]), and individual elements are separated by commas.\n",
    "\n",
    "- **Tuple:** A tuple is an ordered and immutable collection that is similar to a list, but its elements cannot be modified after creation. Tuples are represented by parentheses (()), and individual elements are separated by commas.\n",
    "\n",
    "- **Set:** A set is an unordered collection of unique elements. It does not allow duplicate values and provides operations like union, intersection, and difference. Sets are represented by curly braces ({}) or by using the set() function.\n",
    "\n",
    "- **Dictionary:** A dictionary is an unordered collection of key-value pairs. It allows mapping keys to corresponding values, making it efficient for quick lookup and retrieval. Dictionaries are represented by curly braces ({}), and key-value pairs are specified as key: value separated by commas.\n",
    "\n",
    "These collection types offer different characteristics and are suitable for specific use cases. They can be combined and nested to create complex data structures that suit your needs. Python provides a wide range of built-in functions and methods to perform operations on these collections, such as adding or removing elements, iterating over items, and performing various transformations and manipulations.\n",
    "\n",
    "By utilizing these collection types and their associated operations, you can efficiently store, organize, and manipulate data in your Python programs."
   ]
  },
  {
   "attachments": {},
   "cell_type": "markdown",
   "metadata": {},
   "source": [
    "# List & Tuple\n",
    "\n",
    "In Python, a list and a tuple are both types of sequence data structures that can store multiple items. They are similar in many ways, but they also have some key differences. Let's explore them:\n",
    "\n",
    "- **List:** \n",
    "    - A list is defined using square brackets [] and can contain elements of different data types.\n",
    "    - It is mutable, which means you can modify its elements after creation.\n",
    "    - You can add, remove, or change elements in a list using methods like append(), insert(), remove(), and index-based assignment (list[index] = value).\n",
    "    - Lists are typically used to store collections of items where the order matters, and you may need to modify the contents.\n",
    "- **Tuple:** \n",
    "    - A tuple is defined using parentheses () and can also contain elements of different data types.\n",
    "    - It is immutable, meaning that once created, you cannot modify its elements.\n",
    "    - You cannot add or remove elements from a tuple or change their values.\n",
    "    - Tuples are commonly used to represent a collection of related values that should not be modified, such as coordinates, dates, or configurations.\n",
    "\n",
    "**Similarities:**\n",
    "- Both lists and tuples can store multiple elements and support indexing and slicing.\n",
    "- They can contain elements of different data types, including other lists or tuples.\n",
    "- Both can be iterated over using loops or comprehensions.\n",
    "- Lists and tuples can be nested, allowing you to create multi-dimensional data structures.\n",
    "\n",
    "**Differences:**\n",
    "- Mutability: Lists are mutable, meaning you can modify their elements, whereas tuples are immutable, and their elements cannot be changed once defined.\n",
    "- Syntax: Lists are defined using square brackets [], while tuples use parentheses ().\n",
    "- Performance: Tuples are generally more efficient in terms of memory usage and performance compared to lists. Since tuples are immutable, Python can optimize their storage and operations.\n",
    "- Use cases: Lists are preferred when you need to modify the elements or store a collection of items that may change over time. Tuples are suitable for situations where you want to ensure data integrity and immutability, or when you need a hashable object (e.g., dictionary keys).\n",
    "\n",
    "In summary, the choice between a list and a tuple depends on whether you need a mutable or immutable data structure. If you anticipate the need to modify or update the elements, a list is the appropriate choice. If you want to ensure data integrity or create hashable objects, use a tuple."
   ]
  },
  {
   "cell_type": "code",
   "execution_count": 1,
   "metadata": {},
   "outputs": [
    {
     "name": "stdout",
     "output_type": "stream",
     "text": [
      "['a', 'b', 1, 2]\n",
      "(3.3, 4.7, 'c', 'd')\n"
     ]
    }
   ],
   "source": [
    "l = ['a', 'b', 1, 2]\n",
    "t = ( 3.3, 4.7, 'c', 'd')\n",
    "\n",
    "print(l)\n",
    "print(t)"
   ]
  },
  {
   "attachments": {},
   "cell_type": "markdown",
   "metadata": {},
   "source": [
    "The provided code demonstrates the creation of a list and a tuple, followed by printing their respective contents.\n",
    "\n",
    "In the first line, a list named 'l' is created and initialized with four elements: 'a', 'b', 1, and 2. Lists are enclosed within square brackets and can hold elements of different data types.\n",
    "\n",
    "Next, a tuple named 't' is defined in the second line. Tuples are enclosed within parentheses and, similar to lists, can store elements of various data types. In this case, the tuple 't' contains the elements 3.3, 4.7, 'c', and 'd'.\n",
    "\n",
    "Finally, the contents of the list 'l' and the tuple 't' are printed using the print() function. This will display the entire contents of the list and the tuple as output."
   ]
  },
  {
   "cell_type": "code",
   "execution_count": 2,
   "metadata": {},
   "outputs": [
    {
     "name": "stdout",
     "output_type": "stream",
     "text": [
      "1 4.7 4.7\n"
     ]
    }
   ],
   "source": [
    "print(l[2], t[1], t[-3])"
   ]
  },
  {
   "attachments": {},
   "cell_type": "markdown",
   "metadata": {},
   "source": [
    "The above code snippet prints specific elements from the list 'l' and the tuple 't'.\n",
    "\n",
    "`l[2]` refers to the third element in the list 'l' because indexing in Python starts from 0. Therefore, `l[2]` corresponds to the element with index 2, which is 1 in this case.\n",
    "\n",
    "`t[1]` refers to the second element in the tuple 't' because, like lists, tuples also use 0-based indexing. So, `t[1]` corresponds to the element with index 1, which is 4.7.\n",
    "\n",
    "`t[-3]` refers to the third element from the end of the tuple 't'. Negative indexing allows you to access elements from the end of a sequence. In this case, `t[-3]` corresponds to the element with index -3, which is 3.3.\n",
    "\n",
    "By using the print() function with the specified expressions, the values of these three elements are displayed as output."
   ]
  },
  {
   "cell_type": "code",
   "execution_count": 3,
   "metadata": {},
   "outputs": [
    {
     "name": "stdout",
     "output_type": "stream",
     "text": [
      "3.3\n",
      "4.7\n",
      "c\n",
      "d\n"
     ]
    }
   ],
   "source": [
    "for i in t:\n",
    "    print(i)"
   ]
  },
  {
   "attachments": {},
   "cell_type": "markdown",
   "metadata": {},
   "source": [
    "The provided code snippet iterates over the elements of the tuple 't' and prints each element on a separate line.\n",
    "\n",
    "In this code, a loop is used to iterate over each element in the tuple 't'. The loop variable 'i' takes on the value of each element in 't' in each iteration.\n",
    "\n",
    "The code then executes the indented block of code within the loop, which consists of a single line: print(i). This line prints the value of the current element 'i' during each iteration.\n",
    "\n",
    "Each element of the tuple 't' is printed sequentially due to the loop iterating over the elements."
   ]
  },
  {
   "cell_type": "code",
   "execution_count": 4,
   "metadata": {},
   "outputs": [
    {
     "name": "stdout",
     "output_type": "stream",
     "text": [
      "0:a\n",
      "1:b\n",
      "2:1\n",
      "3:2\n"
     ]
    }
   ],
   "source": [
    "for i,v in enumerate(l):\n",
    "    print(f\"{i}:{v}\")"
   ]
  },
  {
   "attachments": {},
   "cell_type": "markdown",
   "metadata": {},
   "source": [
    "The code snippet provided uses the enumerate() function to iterate over the elements of the list 'l' along with their corresponding indices. It then prints the index and value of each element in the specified format.\n",
    "\n",
    "In this code, the enumerate() function is used to generate pairs of indices and corresponding values for each element in the list 'l'. The loop variable 'i' represents the index, and 'v' represents the value of the current element.\n",
    "\n",
    "The code then executes the indented block of code within the loop, which consists of a single line: `print(f\"{i}:{v}\")`. This line uses an f-string to format and print the index and value of each element in the list. The variable 'i' is the index, and 'v' is the value.\n",
    "    "
   ]
  },
  {
   "cell_type": "code",
   "execution_count": 5,
   "metadata": {},
   "outputs": [
    {
     "name": "stdout",
     "output_type": "stream",
     "text": [
      "['a', 'b', 'c', 'c']\n"
     ]
    }
   ],
   "source": [
    "c = []\n",
    "c.append('a')\n",
    "c.append('b')\n",
    "c.append('c')\n",
    "c.append('c')\n",
    "print(c)"
   ]
  },
  {
   "attachments": {},
   "cell_type": "markdown",
   "metadata": {},
   "source": [
    "In this code, an empty list c is created. The append() method is then used to add elements to the list. Four elements, namely 'a', 'b', 'c', and 'c', are successively appended to the list. Finally, the contents of the list c are printed using print(c)."
   ]
  },
  {
   "cell_type": "code",
   "execution_count": 6,
   "metadata": {},
   "outputs": [
    {
     "name": "stdout",
     "output_type": "stream",
     "text": [
      "['a', 'b', 'c', 'b']\n",
      "['a0', 'a', 'b', 'c', 'b']\n"
     ]
    }
   ],
   "source": [
    "c = ['a', 'b', 'c', 'b']\n",
    "print(c)\n",
    "c.insert(0, 'a0')\n",
    "print(c)"
   ]
  },
  {
   "attachments": {},
   "cell_type": "markdown",
   "metadata": {},
   "source": [
    "Here, a list c with elements 'a', 'b', 'c', and 'b' is created. The initial contents of the list are printed. Then, the insert() method is used to insert the element 'a0' at index 0. The updated contents of the list c are printed."
   ]
  },
  {
   "attachments": {},
   "cell_type": "markdown",
   "metadata": {},
   "source": []
  },
  {
   "attachments": {},
   "cell_type": "markdown",
   "metadata": {},
   "source": [
    "In Python, both the `append()` method and the `insert()` method are used to insert elements into lists. However, there are some differences in how these methods work:\n",
    "\n",
    "`list.append(element)`: The append() method is used to add an element to the end of a list. It takes a single argument, which is the element to be added. The append() method modifies the original list by adding the element at the end, increasing the length of the list by one. All existing elements remain in their current positions, and the new element is placed at the end.\n",
    "\n",
    "Example:"
   ]
  },
  {
   "cell_type": "code",
   "execution_count": 7,
   "metadata": {},
   "outputs": [
    {
     "name": "stdout",
     "output_type": "stream",
     "text": [
      "[1, 2, 3, 4]\n"
     ]
    }
   ],
   "source": [
    "my_list = [1, 2, 3]\n",
    "my_list.append(4)\n",
    "print(my_list)  # Output: [1, 2, 3, 4]"
   ]
  },
  {
   "attachments": {},
   "cell_type": "markdown",
   "metadata": {},
   "source": [
    "`list.insert(index, element)`: The insert() method is used to insert an element at a specific index position within the list. It takes two arguments: the index at which to insert the element and the element itself. The insert() method modifies the original list by inserting the element at the specified index, and it shifts the existing elements to the right.\n",
    "\n",
    "Example:"
   ]
  },
  {
   "cell_type": "code",
   "execution_count": 8,
   "metadata": {},
   "outputs": [
    {
     "name": "stdout",
     "output_type": "stream",
     "text": [
      "[1, 4, 2, 3]\n"
     ]
    }
   ],
   "source": [
    "my_list = [1, 2, 3]\n",
    "my_list.insert(1, 4)\n",
    "print(my_list)  # Output: [1, 4, 2, 3]"
   ]
  },
  {
   "attachments": {},
   "cell_type": "markdown",
   "metadata": {},
   "source": [
    "The main differences between append() and insert() are:\n",
    "\n",
    "- append() always adds the element at the end of the list, while insert() allows you to specify the index position for insertion.\n",
    "- append() is convenient for appending elements to the end of the list, while insert() provides more flexibility for inserting elements at specific positions within the list.\n",
    "- append() increases the length of the list by one, while insert() can potentially increase the length of the list by more than one if multiple insertions are performed.\n",
    "\n",
    "It's important to choose the appropriate method based on your specific requirements and the desired position of the element within the list."
   ]
  },
  {
   "cell_type": "code",
   "execution_count": 9,
   "metadata": {},
   "outputs": [
    {
     "name": "stdout",
     "output_type": "stream",
     "text": [
      "['a0', 'a', 'b', 'c', 'b']\n",
      "['a0', 'a', 'c', 'b']\n"
     ]
    }
   ],
   "source": [
    "print(c)\n",
    "c.remove('b')\n",
    "print(c)"
   ]
  },
  {
   "attachments": {},
   "cell_type": "markdown",
   "metadata": {},
   "source": [
    "he remove() method is used to remove the first occurrence of the element 'b' from the list c. The updated contents of the list c are printed."
   ]
  },
  {
   "cell_type": "code",
   "execution_count": 10,
   "metadata": {},
   "outputs": [
    {
     "name": "stdout",
     "output_type": "stream",
     "text": [
      "['a', 'c', 'b']\n"
     ]
    }
   ],
   "source": [
    "del c[0]\n",
    "print(c)"
   ]
  },
  {
   "attachments": {},
   "cell_type": "markdown",
   "metadata": {},
   "source": [
    "the code shows how to delete an element at a specific index. The del statement is used to remove the element at index 0 from the list c. The updated contents of the list c are printed."
   ]
  }
 ],
 "metadata": {
  "kernelspec": {
   "display_name": "cvpr",
   "language": "python",
   "name": "python3"
  },
  "language_info": {
   "codemirror_mode": {
    "name": "ipython",
    "version": 3
   },
   "file_extension": ".py",
   "mimetype": "text/x-python",
   "name": "python",
   "nbconvert_exporter": "python",
   "pygments_lexer": "ipython3",
   "version": "3.11.4"
  },
  "orig_nbformat": 4
 },
 "nbformat": 4,
 "nbformat_minor": 2
}
