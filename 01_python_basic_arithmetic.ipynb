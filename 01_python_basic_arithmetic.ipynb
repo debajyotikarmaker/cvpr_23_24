{
 "cells": [
  {
   "attachments": {},
   "cell_type": "markdown",
   "metadata": {},
   "source": [
    "### Variable Declaration"
   ]
  },
  {
   "attachments": {},
   "cell_type": "markdown",
   "metadata": {},
   "source": [
    "In Python, variable declaration is a process of creating a variable and assigning a value to it. Unlike some other programming languages, Python does not require explicit variable declaration with a specific type. Instead, variables are dynamically typed, meaning that the type of a variable is determined at runtime based on the value assigned to it.\n",
    "\n",
    "To create a variable in Python, you simply need to choose a name for the variable and use the assignment operator (=) to assign a value to it. For example:"
   ]
  },
  {
   "cell_type": "code",
   "execution_count": 1,
   "metadata": {},
   "outputs": [
    {
     "name": "stdout",
     "output_type": "stream",
     "text": [
      "3\n"
     ]
    }
   ],
   "source": [
    "x = 3\n",
    "print(x)        # Prints the value of x, which is \"3\""
   ]
  },
  {
   "attachments": {},
   "cell_type": "markdown",
   "metadata": {},
   "source": [
    "In the above example, a variable named x is created and assigned the value 3. Python automatically determines the type of the variable based on the assigned value. In this case, x will be of type int (integer).\n",
    "\n",
    "Python supports various data types, including:\n",
    "\n",
    "- **Numeric types:** int (integer), float (floating-point number), complex (complex number)\n",
    "- **Sequence types:** str (string), list (ordered, mutable sequence), tuple (ordered, immutable sequence)\n",
    "- **Mapping type:** dict (dictionary, key-value pairs)\n",
    "- **Set types:** set (unordered collection of unique elements), frozenset (immutable version of set)\n",
    "- **Boolean type:** bool (boolean, representing True or False)\n",
    "- **Others:** None (null-like object)"
   ]
  },
  {
   "attachments": {},
   "cell_type": "markdown",
   "metadata": {},
   "source": [
    "You can use the type() function to determine the type of a variable. For example:"
   ]
  },
  {
   "cell_type": "code",
   "execution_count": 2,
   "metadata": {},
   "outputs": [
    {
     "name": "stdout",
     "output_type": "stream",
     "text": [
      "<class 'int'>\n"
     ]
    }
   ],
   "source": [
    "print(type(x))  # Prints the type of x, which is \"<class 'int'>\""
   ]
  },
  {
   "attachments": {},
   "cell_type": "markdown",
   "metadata": {},
   "source": [
    "The type() function returns the type of the variable x, which is <class 'int'> indicating it is an integer.\n",
    "\n",
    "It's worth noting that Python allows you to reassign variables with values of different types. Since variables are dynamically typed, you can change their type by assigning a new value to them."
   ]
  },
  {
   "attachments": {},
   "cell_type": "markdown",
   "metadata": {},
   "source": [
    "### Arithmetic Operations"
   ]
  },
  {
   "attachments": {},
   "cell_type": "markdown",
   "metadata": {},
   "source": [
    "In Python, math operators are used to perform mathematical computations and operations on numeric values. The following are the commonly used math operators in Python:\n",
    "\n",
    "- **Addition (`+`):** Adds two numbers together.\n",
    "- **Subtraction (`-`):** Subtracts one number from another.\n",
    "- **Multiplication (`*`):** Multiplies two numbers.\n",
    "- **Division (`/`):** Divides one number by another, returning a floating-point result.\n",
    "- **Floor Division (`//`):** Divides one number by another and returns the largest integer less than or equal to the quotient.\n",
    "- **Modulus (`%`):** Returns the remainder of the division between two numbers.\n",
    "- **Exponentiation (\\*\\*):** Raises a number to the power of another number.\n",
    "- **Increment (`+=`):** Adds a value to a variable and assigns the result back to the variable.\n",
    "- **Decrement (`-=`):** Subtracts a value from a variable and assigns the result back to the variable.\n",
    "- **Comparison Operators:** These operators compare two values and return a Boolean result (True or False).\n",
    "    - **Equal to (`==`):** Checks if two values are equal.\n",
    "    - **Not equal to (`!=`):** Checks if two values are not equal.\n",
    "    - **Greater than (`>`):** Checks if one value is greater than another.\n",
    "    - **Less than (`<`):** Checks if one value is less than another.\n",
    "    - **Greater than or equal to (`>=`):** Checks if one value is greater than or equal to another.\n",
    "    - **Less than or equal to (`<=`):** Checks if one value is less than or equal to another.\n",
    "\n",
    "These math operators can be used with different numeric data types such as integers *(int)* and floating-point numbers *(float)* to perform arithmetic calculations and comparisons. Few arithmetic oprations are shown in the bellow example."
   ]
  },
  {
   "cell_type": "code",
   "execution_count": 3,
   "metadata": {},
   "outputs": [
    {
     "name": "stdout",
     "output_type": "stream",
     "text": [
      "4\n",
      "2\n",
      "6\n",
      "9\n",
      "4\n",
      "8\n",
      "<class 'float'>\n",
      "2.5 3.5 5.0 6.25\n"
     ]
    }
   ],
   "source": [
    "print(x + 1)    # Performs addition with x and 1, prints the result \"4\"\n",
    "print(x - 1)    # Performs subtraction with x and 1, prints the result \"2\"\n",
    "print(x * 2)    # Performs multiplication with x and 2, prints the result \"6\"\n",
    "print(x ** 2)   # Performs exponentiation with x raised to the power of 2, prints the result \"9\"\n",
    "\n",
    "x += 1          # Increments the value of x by 1, equivalent to x = x + 1\n",
    "print(x)        # Prints the updated value of x, which is \"4\"\n",
    "x *= 2          # Multiplies the value of x by 2, equivalent to x = x * 2\n",
    "print(x)        # Prints the updated value of x, which is \"8\"\n",
    "\n",
    "y = 2.5\n",
    "print(type(y))  # Prints the type of y, which is \"<class 'float'>\"\n",
    "print(y, y + 1, y * 2, y ** 2)  # Prints the value of y, y + 1, y * 2, and y ** 2 in sequence: \"2.5 3.5 5.0 6.25\""
   ]
  },
  {
   "attachments": {},
   "cell_type": "markdown",
   "metadata": {},
   "source": [
    "### Boolean Operator"
   ]
  },
  {
   "cell_type": "code",
   "execution_count": 4,
   "metadata": {},
   "outputs": [
    {
     "name": "stdout",
     "output_type": "stream",
     "text": [
      "<class 'bool'>\n",
      "False\n",
      "True\n",
      "False\n",
      "True\n"
     ]
    }
   ],
   "source": [
    "t = True\n",
    "f = False\n",
    "print(type(t))      # Prints the type of t, which is \"<class 'bool'>\"\n",
    "print(t and f)      # Performs logical AND operation between t and f, prints the result \"False\"\n",
    "print(t or f)       # Performs logical OR operation between t and f, prints the result \"True\"\n",
    "print(not t)        # Performs logical NOT operation on t, prints the result \"False\"\n",
    "print(t != f)       # Performs logical XOR operation between t and f, prints the result \"True\""
   ]
  },
  {
   "attachments": {},
   "cell_type": "markdown",
   "metadata": {},
   "source": [
    "The code introduces boolean variables t and f and demonstrates different logical operations that can be performed on boolean values. It also prints the type of variable t which is a boolean. The comments explain the purpose and outcome of each operation:\n",
    "\n",
    "- **Logical AND (and):** The and operator returns True if both operands are True, otherwise it returns False.\n",
    "- **Logical OR (or):** The or operator returns True if at least one of the operands is True, otherwise it returns False.\n",
    "- **Logical NOT (not):** The not operator returns the opposite boolean value of the operand. If the operand is True, it returns False, and if the operand is False, it returns True.\n",
    "- **Logical XOR (exclusive OR) (!=):** The != operator checks for inequality. In this case, it returns True if t and f are not equal, otherwise it returns False."
   ]
  },
  {
   "attachments": {},
   "cell_type": "markdown",
   "metadata": {},
   "source": [
    "### Strings"
   ]
  },
  {
   "cell_type": "code",
   "execution_count": 5,
   "metadata": {},
   "outputs": [
    {
     "name": "stdout",
     "output_type": "stream",
     "text": [
      "Hello World\n",
      "Hello World\n",
      "Print\n",
      "Multiple\n",
      "Lines\n",
      "\n",
      "The value of a is 10\n",
      "The value of a plus 5 is 15\n",
      "a is 10\n",
      "a is 10\n",
      "a is 10\n",
      "a is 10 10\n"
     ]
    }
   ],
   "source": [
    "print(\"Hello World\")            # Prints the string \"Hello World\"\n",
    "print('Hello World')            # Prints the string 'Hello World'\n",
    "print(\"\"\"Print\n",
    "Multiple\n",
    "Lines\n",
    "\"\"\")                           # Prints multiple lines of text\n",
    "\n",
    "a = 10\n",
    "print(f'The value of a is {a}')                     # Prints the value of variable a using f-string formatting\n",
    "print(f'The value of a plus 5 is {a+5}')            # Prints the value of a+5 using f-string formatting\n",
    "print(f'a is {a}')                                  # Preferred method for printing variable a using f-string formatting\n",
    "print('a is {}'.format(a))                          # Prints the value of a using format() method\n",
    "print('a is ' + str(a))                             # Prints the value of a by converting it to a string and concatenating\n",
    "print('a is %d %d' % (a, a))                        # Prints the value of a using the old-style string formatting"
   ]
  },
  {
   "attachments": {},
   "cell_type": "markdown",
   "metadata": {},
   "source": [
    "The code showcases various ways to print text and format output in Python:\n",
    "\n",
    "`print(\"Hello World\")` and `print('Hello World')` both print the string \"Hello World\" using double quotes and single quotes, respectively.\n",
    "\n",
    "`print(\"\"\"Print\\nMultiple\\nLines\\n\"\"\")` demonstrates a multiline string with line breaks, using triple double quotes (\"\"\").\n",
    "\n",
    "`print(f'The value of a is {a}')` utilizes f-string formatting to print the value of variable a within the string.\n",
    "\n",
    "`print(f'The value of a plus 5 is {a+5}')` shows how to perform calculations within an f-string.\n",
    "\n",
    "`print(f'a is {a}')` is the preferred method for printing variable a using f-string formatting.\n",
    "\n",
    "`print('a is {}'.format(a))` uses the `format()` method to insert the value of a into the string.\n",
    "\n",
    "`print('a is ' + str(a))` converts a to a string using `str()` and concatenates it with the rest of the string.\n",
    "\n",
    "`print('a is %d %d' % (a, a))` employs the old-style string formatting using `%`placeholders to insert values into the string."
   ]
  },
  {
   "attachments": {},
   "cell_type": "markdown",
   "metadata": {},
   "source": [
    "### If Condition"
   ]
  },
  {
   "cell_type": "code",
   "execution_count": 6,
   "metadata": {},
   "outputs": [
    {
     "name": "stdout",
     "output_type": "stream",
     "text": [
      "The variable a is 5\n",
      "The variable b is also 6\n"
     ]
    }
   ],
   "source": [
    "a = 5\n",
    "b = 6\n",
    "\n",
    "if a == 5:\n",
    "    print('The variable a is 5')\n",
    "    if b == 6:\n",
    "        print('The variable b is also 6')\n",
    "elif a == 6:\n",
    "    print('The variable a is 6')\n",
    "else:\n",
    "    print('anything')"
   ]
  },
  {
   "attachments": {},
   "cell_type": "markdown",
   "metadata": {},
   "source": [
    "The code demonstrates the use of if-elif-else statements for conditional execution in Python:\n",
    "\n",
    "`if a == 5:` checks if the value of a is equal to 5.\n",
    "If the condition is true, it executes the code block inside the if statement, which consists of:\n",
    "- `print('The variable a is 5')` prints the message \"The variable a is 5\".\n",
    "- Nested inside the if block, if b == 6: checks if the value of b is equal to 6.\n",
    "    - If the condition is true, it executes the code block inside the nested if statement, which consists of:\n",
    "        - `print('The variable b is also 6')` prints the message \"The variable b is also 6\".\n",
    "- If the condition a == 5 is false, the code checks the next condition with elif a == 6:.\n",
    "    - If this condition is true, it executes the code block inside the elif statement, which consists of:\n",
    "        - `print('The variable a is 6')` prints the message \"The variable a is 6\".\n",
    "- If none of the above conditions are true, the code executes the else block, which consists of:\n",
    "    - `print('anything')` prints the message \"anything\"."
   ]
  },
  {
   "attachments": {},
   "cell_type": "markdown",
   "metadata": {},
   "source": [
    "### For Loop"
   ]
  },
  {
   "cell_type": "code",
   "execution_count": 7,
   "metadata": {},
   "outputs": [
    {
     "name": "stdout",
     "output_type": "stream",
     "text": [
      "1\n",
      "2\n",
      "3\n",
      "4\n",
      "5\n",
      "6\n",
      "7\n",
      "8\n",
      "9\n"
     ]
    }
   ],
   "source": [
    "for x in range(1, 10):  # Iterates over the numbers from 1 to 9\n",
    "    print(x)           # Prints the value of x in each iteration"
   ]
  },
  {
   "attachments": {},
   "cell_type": "markdown",
   "metadata": {},
   "source": [
    "The code uses a for loop to iterate over a sequence of numbers generated by the range() function. The range(1, 10) generates a sequence of numbers starting from 1 up to, but not including, 10. In each iteration of the loop, the value of x is assigned to the current number in the sequence, and then it is printed using print(x). The loop will execute 9 times, printing the numbers from 1 to 9, each on a separate line."
   ]
  },
  {
   "cell_type": "code",
   "execution_count": 8,
   "metadata": {},
   "outputs": [
    {
     "name": "stdout",
     "output_type": "stream",
     "text": [
      "test: 10\n",
      "test: 9\n",
      "test: 8\n",
      "test: 7\n",
      "test: 6\n",
      "test: 5\n",
      "test: 4\n",
      "test: 3\n",
      "test: 2\n"
     ]
    }
   ],
   "source": [
    "for i in range(10, 1, -1):\n",
    "    # range(start (optional, default 0), end (exclusive), inc/dec (optional, default 1))\n",
    "    print('test:', i)"
   ]
  },
  {
   "attachments": {},
   "cell_type": "markdown",
   "metadata": {},
   "source": [
    "The code uses a for loop with a decreasing range to iterate over a sequence of numbers. The range(10, 1, -1) generates a sequence of numbers starting from 10 and decrementing by 1 until reaching 2 (the end value is exclusive). In each iteration of the loop, the value of i is assigned to the current number in the sequence, and then it is printed using print('test:', i). The loop will execute 9 times, printing the numbers from 10 to 2, each preceded by the word \"test:\"."
   ]
  },
  {
   "cell_type": "code",
   "execution_count": 9,
   "metadata": {},
   "outputs": [
    {
     "name": "stdout",
     "output_type": "stream",
     "text": [
      "0 + 1 = 1\n",
      "1 + 2 = 3\n",
      "3 + 3 = 6\n",
      "6 + 4 = 10\n",
      "10 + 5 = 15\n",
      "15 + 6 = 21\n",
      "21 + 7 = 28\n",
      "28 + 8 = 36\n",
      "36 + 9 = 45\n",
      "Final sum: 45\n"
     ]
    }
   ],
   "source": [
    "acc = 0\n",
    "for x in range(1, 10):\n",
    "    print(f\"{acc} + {x} = \", end=\"\")\n",
    "    acc += x\n",
    "    print(acc)\n",
    "\n",
    "print(f\"Final sum: {acc}\")"
   ]
  },
  {
   "attachments": {},
   "cell_type": "markdown",
   "metadata": {},
   "source": [
    "The code demonstrates the accumulation of values using a for loop and a running sum (acc variable):\n",
    "\n",
    "- acc = 0 initializes the accumulator variable acc to 0.\n",
    "- The for loop iterates over the numbers from 1 to 9 (exclusive) using range(1, 10).\n",
    "- In each iteration:\n",
    "    - print(f\"{acc} + {x} = \", end=\"\") prints the current value of acc and the current value of x (the loop variable) as a part of the equation, without a newline character at the end.\n",
    "    - acc += x adds the current value of x to acc, accumulating the sum.\n",
    "    - print(acc) prints the updated value of acc on the same line.\n",
    "- After the loop, print(f\"Final sum: {acc}\") displays the final sum value by formatting the string with the value of acc."
   ]
  }
 ],
 "metadata": {
  "kernelspec": {
   "display_name": "cvpr",
   "language": "python",
   "name": "python3"
  },
  "language_info": {
   "codemirror_mode": {
    "name": "ipython",
    "version": 3
   },
   "file_extension": ".py",
   "mimetype": "text/x-python",
   "name": "python",
   "nbconvert_exporter": "python",
   "pygments_lexer": "ipython3",
   "version": "3.11.4"
  },
  "orig_nbformat": 4
 },
 "nbformat": 4,
 "nbformat_minor": 2
}
